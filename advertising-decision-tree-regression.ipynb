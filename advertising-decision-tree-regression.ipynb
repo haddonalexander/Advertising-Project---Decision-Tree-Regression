{
 "cells": [
  {
   "cell_type": "markdown",
   "id": "01976b84",
   "metadata": {
    "papermill": {
     "duration": 0.030612,
     "end_time": "2021-11-22T22:08:45.938205",
     "exception": false,
     "start_time": "2021-11-22T22:08:45.907593",
     "status": "completed"
    },
    "tags": []
   },
   "source": [
    "The purpose of this project was to get practice with analyzing datasets to draw insights and identify features for a decision tree regression model. The tools I used for this project were Pandas, Matplotlib, and Sci Kit Learn. "
   ]
  },
  {
   "cell_type": "code",
   "execution_count": 1,
   "id": "b8f504ba",
   "metadata": {
    "execution": {
     "iopub.execute_input": "2021-11-22T22:08:45.997152Z",
     "iopub.status.busy": "2021-11-22T22:08:45.995862Z",
     "iopub.status.idle": "2021-11-22T22:08:46.958216Z",
     "shell.execute_reply": "2021-11-22T22:08:46.957458Z",
     "shell.execute_reply.started": "2021-11-22T22:03:13.104993Z"
    },
    "papermill": {
     "duration": 0.9932,
     "end_time": "2021-11-22T22:08:46.958403",
     "exception": false,
     "start_time": "2021-11-22T22:08:45.965203",
     "status": "completed"
    },
    "tags": []
   },
   "outputs": [],
   "source": [
    "import pandas as pd\n",
    "import matplotlib.pyplot as plt\n",
    "import sklearn as sk\n",
    "\n",
    "open_file1 = open(r\"../input/advertising/advertising.csv\")\n",
    "\n",
    "df_ads = pd.read_csv(open_file1)"
   ]
  },
  {
   "cell_type": "code",
   "execution_count": 2,
   "id": "5f2e8b2f",
   "metadata": {
    "execution": {
     "iopub.execute_input": "2021-11-22T22:08:47.015697Z",
     "iopub.status.busy": "2021-11-22T22:08:47.015041Z",
     "iopub.status.idle": "2021-11-22T22:08:47.025684Z",
     "shell.execute_reply": "2021-11-22T22:08:47.026193Z",
     "shell.execute_reply.started": "2021-11-22T22:03:13.870274Z"
    },
    "papermill": {
     "duration": 0.041086,
     "end_time": "2021-11-22T22:08:47.026365",
     "exception": false,
     "start_time": "2021-11-22T22:08:46.985279",
     "status": "completed"
    },
    "tags": []
   },
   "outputs": [
    {
     "data": {
      "text/plain": [
       "Daily Time Spent on Site    float64\n",
       "Age                           int64\n",
       "Area Income                 float64\n",
       "Daily Internet Usage        float64\n",
       "Ad Topic Line                object\n",
       "City                         object\n",
       "Male                          int64\n",
       "Country                      object\n",
       "Timestamp                    object\n",
       "Clicked on Ad                 int64\n",
       "dtype: object"
      ]
     },
     "execution_count": 2,
     "metadata": {},
     "output_type": "execute_result"
    }
   ],
   "source": [
    "df_ads.dtypes"
   ]
  },
  {
   "cell_type": "code",
   "execution_count": 3,
   "id": "697632ab",
   "metadata": {
    "execution": {
     "iopub.execute_input": "2021-11-22T22:08:47.085709Z",
     "iopub.status.busy": "2021-11-22T22:08:47.084998Z",
     "iopub.status.idle": "2021-11-22T22:08:47.103533Z",
     "shell.execute_reply": "2021-11-22T22:08:47.104172Z",
     "shell.execute_reply.started": "2021-11-22T22:03:13.88253Z"
    },
    "papermill": {
     "duration": 0.049602,
     "end_time": "2021-11-22T22:08:47.104356",
     "exception": false,
     "start_time": "2021-11-22T22:08:47.054754",
     "status": "completed"
    },
    "tags": []
   },
   "outputs": [
    {
     "data": {
      "text/html": [
       "<div>\n",
       "<style scoped>\n",
       "    .dataframe tbody tr th:only-of-type {\n",
       "        vertical-align: middle;\n",
       "    }\n",
       "\n",
       "    .dataframe tbody tr th {\n",
       "        vertical-align: top;\n",
       "    }\n",
       "\n",
       "    .dataframe thead th {\n",
       "        text-align: right;\n",
       "    }\n",
       "</style>\n",
       "<table border=\"1\" class=\"dataframe\">\n",
       "  <thead>\n",
       "    <tr style=\"text-align: right;\">\n",
       "      <th></th>\n",
       "      <th>Daily Time Spent on Site</th>\n",
       "      <th>Age</th>\n",
       "      <th>Area Income</th>\n",
       "      <th>Daily Internet Usage</th>\n",
       "      <th>Ad Topic Line</th>\n",
       "      <th>City</th>\n",
       "      <th>Male</th>\n",
       "      <th>Country</th>\n",
       "      <th>Timestamp</th>\n",
       "      <th>Clicked on Ad</th>\n",
       "    </tr>\n",
       "  </thead>\n",
       "  <tbody>\n",
       "    <tr>\n",
       "      <th>0</th>\n",
       "      <td>68.95</td>\n",
       "      <td>35</td>\n",
       "      <td>61833.90</td>\n",
       "      <td>256.09</td>\n",
       "      <td>Cloned 5thgeneration orchestration</td>\n",
       "      <td>Wrightburgh</td>\n",
       "      <td>0</td>\n",
       "      <td>Tunisia</td>\n",
       "      <td>2016-03-27 00:53:11</td>\n",
       "      <td>0</td>\n",
       "    </tr>\n",
       "    <tr>\n",
       "      <th>1</th>\n",
       "      <td>80.23</td>\n",
       "      <td>31</td>\n",
       "      <td>68441.85</td>\n",
       "      <td>193.77</td>\n",
       "      <td>Monitored national standardization</td>\n",
       "      <td>West Jodi</td>\n",
       "      <td>1</td>\n",
       "      <td>Nauru</td>\n",
       "      <td>2016-04-04 01:39:02</td>\n",
       "      <td>0</td>\n",
       "    </tr>\n",
       "    <tr>\n",
       "      <th>2</th>\n",
       "      <td>69.47</td>\n",
       "      <td>26</td>\n",
       "      <td>59785.94</td>\n",
       "      <td>236.50</td>\n",
       "      <td>Organic bottom-line service-desk</td>\n",
       "      <td>Davidton</td>\n",
       "      <td>0</td>\n",
       "      <td>San Marino</td>\n",
       "      <td>2016-03-13 20:35:42</td>\n",
       "      <td>0</td>\n",
       "    </tr>\n",
       "    <tr>\n",
       "      <th>3</th>\n",
       "      <td>74.15</td>\n",
       "      <td>29</td>\n",
       "      <td>54806.18</td>\n",
       "      <td>245.89</td>\n",
       "      <td>Triple-buffered reciprocal time-frame</td>\n",
       "      <td>West Terrifurt</td>\n",
       "      <td>1</td>\n",
       "      <td>Italy</td>\n",
       "      <td>2016-01-10 02:31:19</td>\n",
       "      <td>0</td>\n",
       "    </tr>\n",
       "    <tr>\n",
       "      <th>4</th>\n",
       "      <td>68.37</td>\n",
       "      <td>35</td>\n",
       "      <td>73889.99</td>\n",
       "      <td>225.58</td>\n",
       "      <td>Robust logistical utilization</td>\n",
       "      <td>South Manuel</td>\n",
       "      <td>0</td>\n",
       "      <td>Iceland</td>\n",
       "      <td>2016-06-03 03:36:18</td>\n",
       "      <td>0</td>\n",
       "    </tr>\n",
       "  </tbody>\n",
       "</table>\n",
       "</div>"
      ],
      "text/plain": [
       "   Daily Time Spent on Site  Age  Area Income  Daily Internet Usage  \\\n",
       "0                     68.95   35     61833.90                256.09   \n",
       "1                     80.23   31     68441.85                193.77   \n",
       "2                     69.47   26     59785.94                236.50   \n",
       "3                     74.15   29     54806.18                245.89   \n",
       "4                     68.37   35     73889.99                225.58   \n",
       "\n",
       "                           Ad Topic Line            City  Male     Country  \\\n",
       "0     Cloned 5thgeneration orchestration     Wrightburgh     0     Tunisia   \n",
       "1     Monitored national standardization       West Jodi     1       Nauru   \n",
       "2       Organic bottom-line service-desk        Davidton     0  San Marino   \n",
       "3  Triple-buffered reciprocal time-frame  West Terrifurt     1       Italy   \n",
       "4          Robust logistical utilization    South Manuel     0     Iceland   \n",
       "\n",
       "             Timestamp  Clicked on Ad  \n",
       "0  2016-03-27 00:53:11              0  \n",
       "1  2016-04-04 01:39:02              0  \n",
       "2  2016-03-13 20:35:42              0  \n",
       "3  2016-01-10 02:31:19              0  \n",
       "4  2016-06-03 03:36:18              0  "
      ]
     },
     "execution_count": 3,
     "metadata": {},
     "output_type": "execute_result"
    }
   ],
   "source": [
    "df_ads.head()"
   ]
  },
  {
   "cell_type": "code",
   "execution_count": 4,
   "id": "c9dbf520",
   "metadata": {
    "execution": {
     "iopub.execute_input": "2021-11-22T22:08:47.163251Z",
     "iopub.status.busy": "2021-11-22T22:08:47.162473Z",
     "iopub.status.idle": "2021-11-22T22:08:47.201636Z",
     "shell.execute_reply": "2021-11-22T22:08:47.201004Z",
     "shell.execute_reply.started": "2021-11-22T22:03:13.909275Z"
    },
    "papermill": {
     "duration": 0.069625,
     "end_time": "2021-11-22T22:08:47.201789",
     "exception": false,
     "start_time": "2021-11-22T22:08:47.132164",
     "status": "completed"
    },
    "tags": []
   },
   "outputs": [
    {
     "data": {
      "text/html": [
       "<div>\n",
       "<style scoped>\n",
       "    .dataframe tbody tr th:only-of-type {\n",
       "        vertical-align: middle;\n",
       "    }\n",
       "\n",
       "    .dataframe tbody tr th {\n",
       "        vertical-align: top;\n",
       "    }\n",
       "\n",
       "    .dataframe thead th {\n",
       "        text-align: right;\n",
       "    }\n",
       "</style>\n",
       "<table border=\"1\" class=\"dataframe\">\n",
       "  <thead>\n",
       "    <tr style=\"text-align: right;\">\n",
       "      <th></th>\n",
       "      <th>Daily Time Spent on Site</th>\n",
       "      <th>Age</th>\n",
       "      <th>Area Income</th>\n",
       "      <th>Daily Internet Usage</th>\n",
       "      <th>Male</th>\n",
       "      <th>Clicked on Ad</th>\n",
       "    </tr>\n",
       "  </thead>\n",
       "  <tbody>\n",
       "    <tr>\n",
       "      <th>count</th>\n",
       "      <td>1000.000000</td>\n",
       "      <td>1000.000000</td>\n",
       "      <td>1000.000000</td>\n",
       "      <td>1000.000000</td>\n",
       "      <td>1000.000000</td>\n",
       "      <td>1000.00000</td>\n",
       "    </tr>\n",
       "    <tr>\n",
       "      <th>mean</th>\n",
       "      <td>65.000200</td>\n",
       "      <td>36.009000</td>\n",
       "      <td>55000.000080</td>\n",
       "      <td>180.000100</td>\n",
       "      <td>0.481000</td>\n",
       "      <td>0.50000</td>\n",
       "    </tr>\n",
       "    <tr>\n",
       "      <th>std</th>\n",
       "      <td>15.853615</td>\n",
       "      <td>8.785562</td>\n",
       "      <td>13414.634022</td>\n",
       "      <td>43.902339</td>\n",
       "      <td>0.499889</td>\n",
       "      <td>0.50025</td>\n",
       "    </tr>\n",
       "    <tr>\n",
       "      <th>min</th>\n",
       "      <td>32.600000</td>\n",
       "      <td>19.000000</td>\n",
       "      <td>13996.500000</td>\n",
       "      <td>104.780000</td>\n",
       "      <td>0.000000</td>\n",
       "      <td>0.00000</td>\n",
       "    </tr>\n",
       "    <tr>\n",
       "      <th>25%</th>\n",
       "      <td>51.360000</td>\n",
       "      <td>29.000000</td>\n",
       "      <td>47031.802500</td>\n",
       "      <td>138.830000</td>\n",
       "      <td>0.000000</td>\n",
       "      <td>0.00000</td>\n",
       "    </tr>\n",
       "    <tr>\n",
       "      <th>50%</th>\n",
       "      <td>68.215000</td>\n",
       "      <td>35.000000</td>\n",
       "      <td>57012.300000</td>\n",
       "      <td>183.130000</td>\n",
       "      <td>0.000000</td>\n",
       "      <td>0.50000</td>\n",
       "    </tr>\n",
       "    <tr>\n",
       "      <th>75%</th>\n",
       "      <td>78.547500</td>\n",
       "      <td>42.000000</td>\n",
       "      <td>65470.635000</td>\n",
       "      <td>218.792500</td>\n",
       "      <td>1.000000</td>\n",
       "      <td>1.00000</td>\n",
       "    </tr>\n",
       "    <tr>\n",
       "      <th>max</th>\n",
       "      <td>91.430000</td>\n",
       "      <td>61.000000</td>\n",
       "      <td>79484.800000</td>\n",
       "      <td>269.960000</td>\n",
       "      <td>1.000000</td>\n",
       "      <td>1.00000</td>\n",
       "    </tr>\n",
       "  </tbody>\n",
       "</table>\n",
       "</div>"
      ],
      "text/plain": [
       "       Daily Time Spent on Site          Age   Area Income  \\\n",
       "count               1000.000000  1000.000000   1000.000000   \n",
       "mean                  65.000200    36.009000  55000.000080   \n",
       "std                   15.853615     8.785562  13414.634022   \n",
       "min                   32.600000    19.000000  13996.500000   \n",
       "25%                   51.360000    29.000000  47031.802500   \n",
       "50%                   68.215000    35.000000  57012.300000   \n",
       "75%                   78.547500    42.000000  65470.635000   \n",
       "max                   91.430000    61.000000  79484.800000   \n",
       "\n",
       "       Daily Internet Usage         Male  Clicked on Ad  \n",
       "count           1000.000000  1000.000000     1000.00000  \n",
       "mean             180.000100     0.481000        0.50000  \n",
       "std               43.902339     0.499889        0.50025  \n",
       "min              104.780000     0.000000        0.00000  \n",
       "25%              138.830000     0.000000        0.00000  \n",
       "50%              183.130000     0.000000        0.50000  \n",
       "75%              218.792500     1.000000        1.00000  \n",
       "max              269.960000     1.000000        1.00000  "
      ]
     },
     "execution_count": 4,
     "metadata": {},
     "output_type": "execute_result"
    }
   ],
   "source": [
    "df_ads.describe()"
   ]
  },
  {
   "cell_type": "code",
   "execution_count": 5,
   "id": "28696be5",
   "metadata": {
    "execution": {
     "iopub.execute_input": "2021-11-22T22:08:47.266278Z",
     "iopub.status.busy": "2021-11-22T22:08:47.265312Z",
     "iopub.status.idle": "2021-11-22T22:08:47.269396Z",
     "shell.execute_reply": "2021-11-22T22:08:47.268841Z",
     "shell.execute_reply.started": "2021-11-22T22:03:13.949166Z"
    },
    "papermill": {
     "duration": 0.039666,
     "end_time": "2021-11-22T22:08:47.269540",
     "exception": false,
     "start_time": "2021-11-22T22:08:47.229874",
     "status": "completed"
    },
    "tags": []
   },
   "outputs": [
    {
     "data": {
      "text/plain": [
       "0"
      ]
     },
     "execution_count": 5,
     "metadata": {},
     "output_type": "execute_result"
    }
   ],
   "source": [
    "df_ads.isna().sum().sum()"
   ]
  },
  {
   "cell_type": "code",
   "execution_count": 6,
   "id": "1aada956",
   "metadata": {
    "execution": {
     "iopub.execute_input": "2021-11-22T22:08:47.332231Z",
     "iopub.status.busy": "2021-11-22T22:08:47.331456Z",
     "iopub.status.idle": "2021-11-22T22:08:47.335668Z",
     "shell.execute_reply": "2021-11-22T22:08:47.336165Z",
     "shell.execute_reply.started": "2021-11-22T22:03:13.958461Z"
    },
    "papermill": {
     "duration": 0.037784,
     "end_time": "2021-11-22T22:08:47.336348",
     "exception": false,
     "start_time": "2021-11-22T22:08:47.298564",
     "status": "completed"
    },
    "tags": []
   },
   "outputs": [],
   "source": [
    "df_age_clicks = df_ads[[\"Age\", \"Clicked on Ad\"]]"
   ]
  },
  {
   "cell_type": "code",
   "execution_count": 7,
   "id": "ff7a897f",
   "metadata": {
    "execution": {
     "iopub.execute_input": "2021-11-22T22:08:47.396522Z",
     "iopub.status.busy": "2021-11-22T22:08:47.395800Z",
     "iopub.status.idle": "2021-11-22T22:08:47.408196Z",
     "shell.execute_reply": "2021-11-22T22:08:47.408947Z",
     "shell.execute_reply.started": "2021-11-22T22:03:13.972305Z"
    },
    "papermill": {
     "duration": 0.044505,
     "end_time": "2021-11-22T22:08:47.409212",
     "exception": false,
     "start_time": "2021-11-22T22:08:47.364707",
     "status": "completed"
    },
    "tags": []
   },
   "outputs": [
    {
     "data": {
      "text/html": [
       "<div>\n",
       "<style scoped>\n",
       "    .dataframe tbody tr th:only-of-type {\n",
       "        vertical-align: middle;\n",
       "    }\n",
       "\n",
       "    .dataframe tbody tr th {\n",
       "        vertical-align: top;\n",
       "    }\n",
       "\n",
       "    .dataframe thead th {\n",
       "        text-align: right;\n",
       "    }\n",
       "</style>\n",
       "<table border=\"1\" class=\"dataframe\">\n",
       "  <thead>\n",
       "    <tr style=\"text-align: right;\">\n",
       "      <th></th>\n",
       "      <th>Clicked on Ad</th>\n",
       "    </tr>\n",
       "    <tr>\n",
       "      <th>Age</th>\n",
       "      <th></th>\n",
       "    </tr>\n",
       "  </thead>\n",
       "  <tbody>\n",
       "    <tr>\n",
       "      <th>19</th>\n",
       "      <td>1</td>\n",
       "    </tr>\n",
       "    <tr>\n",
       "      <th>20</th>\n",
       "      <td>1</td>\n",
       "    </tr>\n",
       "    <tr>\n",
       "      <th>21</th>\n",
       "      <td>0</td>\n",
       "    </tr>\n",
       "    <tr>\n",
       "      <th>22</th>\n",
       "      <td>1</td>\n",
       "    </tr>\n",
       "    <tr>\n",
       "      <th>23</th>\n",
       "      <td>8</td>\n",
       "    </tr>\n",
       "  </tbody>\n",
       "</table>\n",
       "</div>"
      ],
      "text/plain": [
       "     Clicked on Ad\n",
       "Age               \n",
       "19               1\n",
       "20               1\n",
       "21               0\n",
       "22               1\n",
       "23               8"
      ]
     },
     "execution_count": 7,
     "metadata": {},
     "output_type": "execute_result"
    }
   ],
   "source": [
    "age_count_clicks = df_age_clicks.groupby([\"Age\"]).sum()\n",
    "\n",
    "age_count_clicks.head()"
   ]
  },
  {
   "cell_type": "code",
   "execution_count": 8,
   "id": "109c0a49",
   "metadata": {
    "execution": {
     "iopub.execute_input": "2021-11-22T22:08:47.472499Z",
     "iopub.status.busy": "2021-11-22T22:08:47.471799Z",
     "iopub.status.idle": "2021-11-22T22:08:47.478783Z",
     "shell.execute_reply": "2021-11-22T22:08:47.479391Z",
     "shell.execute_reply.started": "2021-11-22T22:03:13.992044Z"
    },
    "papermill": {
     "duration": 0.040027,
     "end_time": "2021-11-22T22:08:47.479584",
     "exception": false,
     "start_time": "2021-11-22T22:08:47.439557",
     "status": "completed"
    },
    "tags": []
   },
   "outputs": [],
   "source": [
    "age_count_tot = df_age_clicks[\"Age\"].value_counts().sort_index(ascending = True)"
   ]
  },
  {
   "cell_type": "code",
   "execution_count": 9,
   "id": "de2db3c7",
   "metadata": {
    "execution": {
     "iopub.execute_input": "2021-11-22T22:08:47.541239Z",
     "iopub.status.busy": "2021-11-22T22:08:47.540505Z",
     "iopub.status.idle": "2021-11-22T22:08:47.546263Z",
     "shell.execute_reply": "2021-11-22T22:08:47.546809Z",
     "shell.execute_reply.started": "2021-11-22T22:03:14.008385Z"
    },
    "papermill": {
     "duration": 0.038551,
     "end_time": "2021-11-22T22:08:47.547004",
     "exception": false,
     "start_time": "2021-11-22T22:08:47.508453",
     "status": "completed"
    },
    "tags": []
   },
   "outputs": [
    {
     "data": {
      "text/plain": [
       "19     6\n",
       "20     6\n",
       "21     6\n",
       "22    13\n",
       "23    19\n",
       "Name: Age, dtype: int64"
      ]
     },
     "execution_count": 9,
     "metadata": {},
     "output_type": "execute_result"
    }
   ],
   "source": [
    "age_count_tot.head()"
   ]
  },
  {
   "cell_type": "code",
   "execution_count": 10,
   "id": "f6c93c23",
   "metadata": {
    "execution": {
     "iopub.execute_input": "2021-11-22T22:08:47.608479Z",
     "iopub.status.busy": "2021-11-22T22:08:47.607802Z",
     "iopub.status.idle": "2021-11-22T22:08:47.612892Z",
     "shell.execute_reply": "2021-11-22T22:08:47.613491Z",
     "shell.execute_reply.started": "2021-11-22T22:03:14.025767Z"
    },
    "papermill": {
     "duration": 0.037491,
     "end_time": "2021-11-22T22:08:47.613668",
     "exception": false,
     "start_time": "2021-11-22T22:08:47.576177",
     "status": "completed"
    },
    "tags": []
   },
   "outputs": [],
   "source": [
    "df_age_clicked = pd.concat([age_count_clicks, age_count_tot], axis=1)"
   ]
  },
  {
   "cell_type": "code",
   "execution_count": 11,
   "id": "2bf71ef9",
   "metadata": {
    "execution": {
     "iopub.execute_input": "2021-11-22T22:08:47.676494Z",
     "iopub.status.busy": "2021-11-22T22:08:47.675798Z",
     "iopub.status.idle": "2021-11-22T22:08:47.679912Z",
     "shell.execute_reply": "2021-11-22T22:08:47.680474Z",
     "shell.execute_reply.started": "2021-11-22T22:03:14.035576Z"
    },
    "papermill": {
     "duration": 0.037295,
     "end_time": "2021-11-22T22:08:47.680692",
     "exception": false,
     "start_time": "2021-11-22T22:08:47.643397",
     "status": "completed"
    },
    "tags": []
   },
   "outputs": [],
   "source": [
    "df_age_clicked.rename(columns = {\"Age\" : \"Total\"}, inplace = True)"
   ]
  },
  {
   "cell_type": "code",
   "execution_count": 12,
   "id": "37d37951",
   "metadata": {
    "execution": {
     "iopub.execute_input": "2021-11-22T22:08:47.743739Z",
     "iopub.status.busy": "2021-11-22T22:08:47.743000Z",
     "iopub.status.idle": "2021-11-22T22:08:47.750815Z",
     "shell.execute_reply": "2021-11-22T22:08:47.751495Z",
     "shell.execute_reply.started": "2021-11-22T22:03:14.048551Z"
    },
    "papermill": {
     "duration": 0.041557,
     "end_time": "2021-11-22T22:08:47.751676",
     "exception": false,
     "start_time": "2021-11-22T22:08:47.710119",
     "status": "completed"
    },
    "tags": []
   },
   "outputs": [
    {
     "data": {
      "text/html": [
       "<div>\n",
       "<style scoped>\n",
       "    .dataframe tbody tr th:only-of-type {\n",
       "        vertical-align: middle;\n",
       "    }\n",
       "\n",
       "    .dataframe tbody tr th {\n",
       "        vertical-align: top;\n",
       "    }\n",
       "\n",
       "    .dataframe thead th {\n",
       "        text-align: right;\n",
       "    }\n",
       "</style>\n",
       "<table border=\"1\" class=\"dataframe\">\n",
       "  <thead>\n",
       "    <tr style=\"text-align: right;\">\n",
       "      <th></th>\n",
       "      <th>Clicked on Ad</th>\n",
       "      <th>Total</th>\n",
       "    </tr>\n",
       "  </thead>\n",
       "  <tbody>\n",
       "    <tr>\n",
       "      <th>19</th>\n",
       "      <td>1</td>\n",
       "      <td>6</td>\n",
       "    </tr>\n",
       "    <tr>\n",
       "      <th>20</th>\n",
       "      <td>1</td>\n",
       "      <td>6</td>\n",
       "    </tr>\n",
       "    <tr>\n",
       "      <th>21</th>\n",
       "      <td>0</td>\n",
       "      <td>6</td>\n",
       "    </tr>\n",
       "    <tr>\n",
       "      <th>22</th>\n",
       "      <td>1</td>\n",
       "      <td>13</td>\n",
       "    </tr>\n",
       "    <tr>\n",
       "      <th>23</th>\n",
       "      <td>8</td>\n",
       "      <td>19</td>\n",
       "    </tr>\n",
       "  </tbody>\n",
       "</table>\n",
       "</div>"
      ],
      "text/plain": [
       "    Clicked on Ad  Total\n",
       "19              1      6\n",
       "20              1      6\n",
       "21              0      6\n",
       "22              1     13\n",
       "23              8     19"
      ]
     },
     "execution_count": 12,
     "metadata": {},
     "output_type": "execute_result"
    }
   ],
   "source": [
    "df_age_clicked.head()"
   ]
  },
  {
   "cell_type": "code",
   "execution_count": 13,
   "id": "f5d42d9a",
   "metadata": {
    "execution": {
     "iopub.execute_input": "2021-11-22T22:08:47.817886Z",
     "iopub.status.busy": "2021-11-22T22:08:47.817122Z",
     "iopub.status.idle": "2021-11-22T22:08:47.822115Z",
     "shell.execute_reply": "2021-11-22T22:08:47.822684Z",
     "shell.execute_reply.started": "2021-11-22T22:03:14.065378Z"
    },
    "papermill": {
     "duration": 0.040091,
     "end_time": "2021-11-22T22:08:47.822868",
     "exception": false,
     "start_time": "2021-11-22T22:08:47.782777",
     "status": "completed"
    },
    "tags": []
   },
   "outputs": [],
   "source": [
    "df_age_clicked[\"Percent Clicked\"] = (df_age_clicked[\"Clicked on Ad\"]/df_age_clicked[\"Total\"]) * 100"
   ]
  },
  {
   "cell_type": "code",
   "execution_count": 14,
   "id": "e82f4015",
   "metadata": {
    "execution": {
     "iopub.execute_input": "2021-11-22T22:08:47.885683Z",
     "iopub.status.busy": "2021-11-22T22:08:47.885007Z",
     "iopub.status.idle": "2021-11-22T22:08:47.891331Z",
     "shell.execute_reply": "2021-11-22T22:08:47.891867Z",
     "shell.execute_reply.started": "2021-11-22T22:03:14.07692Z"
    },
    "papermill": {
     "duration": 0.039538,
     "end_time": "2021-11-22T22:08:47.892067",
     "exception": false,
     "start_time": "2021-11-22T22:08:47.852529",
     "status": "completed"
    },
    "tags": []
   },
   "outputs": [],
   "source": [
    "df_age_clicked[\"Index\"] = range(0, 0 + len(df_age_clicked))\n",
    "\n",
    "df_age_clicked = df_age_clicked.reset_index().set_index('Index')"
   ]
  },
  {
   "cell_type": "code",
   "execution_count": 15,
   "id": "36189a6b",
   "metadata": {
    "execution": {
     "iopub.execute_input": "2021-11-22T22:08:47.955230Z",
     "iopub.status.busy": "2021-11-22T22:08:47.954507Z",
     "iopub.status.idle": "2021-11-22T22:08:47.960146Z",
     "shell.execute_reply": "2021-11-22T22:08:47.959547Z",
     "shell.execute_reply.started": "2021-11-22T22:03:14.093082Z"
    },
    "papermill": {
     "duration": 0.037958,
     "end_time": "2021-11-22T22:08:47.960296",
     "exception": false,
     "start_time": "2021-11-22T22:08:47.922338",
     "status": "completed"
    },
    "tags": []
   },
   "outputs": [],
   "source": [
    "df_age_clicked = df_age_clicked.rename(columns = {\"index\" : \"Age\"})"
   ]
  },
  {
   "cell_type": "code",
   "execution_count": 16,
   "id": "69e549d7",
   "metadata": {
    "execution": {
     "iopub.execute_input": "2021-11-22T22:08:48.030703Z",
     "iopub.status.busy": "2021-11-22T22:08:48.029878Z",
     "iopub.status.idle": "2021-11-22T22:08:48.033010Z",
     "shell.execute_reply": "2021-11-22T22:08:48.033515Z",
     "shell.execute_reply.started": "2021-11-22T22:03:14.100576Z"
    },
    "papermill": {
     "duration": 0.04339,
     "end_time": "2021-11-22T22:08:48.033688",
     "exception": false,
     "start_time": "2021-11-22T22:08:47.990298",
     "status": "completed"
    },
    "tags": []
   },
   "outputs": [
    {
     "data": {
      "text/html": [
       "<div>\n",
       "<style scoped>\n",
       "    .dataframe tbody tr th:only-of-type {\n",
       "        vertical-align: middle;\n",
       "    }\n",
       "\n",
       "    .dataframe tbody tr th {\n",
       "        vertical-align: top;\n",
       "    }\n",
       "\n",
       "    .dataframe thead th {\n",
       "        text-align: right;\n",
       "    }\n",
       "</style>\n",
       "<table border=\"1\" class=\"dataframe\">\n",
       "  <thead>\n",
       "    <tr style=\"text-align: right;\">\n",
       "      <th></th>\n",
       "      <th>Age</th>\n",
       "      <th>Clicked on Ad</th>\n",
       "      <th>Total</th>\n",
       "      <th>Percent Clicked</th>\n",
       "    </tr>\n",
       "    <tr>\n",
       "      <th>Index</th>\n",
       "      <th></th>\n",
       "      <th></th>\n",
       "      <th></th>\n",
       "      <th></th>\n",
       "    </tr>\n",
       "  </thead>\n",
       "  <tbody>\n",
       "    <tr>\n",
       "      <th>0</th>\n",
       "      <td>19</td>\n",
       "      <td>1</td>\n",
       "      <td>6</td>\n",
       "      <td>16.666667</td>\n",
       "    </tr>\n",
       "    <tr>\n",
       "      <th>1</th>\n",
       "      <td>20</td>\n",
       "      <td>1</td>\n",
       "      <td>6</td>\n",
       "      <td>16.666667</td>\n",
       "    </tr>\n",
       "    <tr>\n",
       "      <th>2</th>\n",
       "      <td>21</td>\n",
       "      <td>0</td>\n",
       "      <td>6</td>\n",
       "      <td>0.000000</td>\n",
       "    </tr>\n",
       "    <tr>\n",
       "      <th>3</th>\n",
       "      <td>22</td>\n",
       "      <td>1</td>\n",
       "      <td>13</td>\n",
       "      <td>7.692308</td>\n",
       "    </tr>\n",
       "    <tr>\n",
       "      <th>4</th>\n",
       "      <td>23</td>\n",
       "      <td>8</td>\n",
       "      <td>19</td>\n",
       "      <td>42.105263</td>\n",
       "    </tr>\n",
       "  </tbody>\n",
       "</table>\n",
       "</div>"
      ],
      "text/plain": [
       "       Age  Clicked on Ad  Total  Percent Clicked\n",
       "Index                                            \n",
       "0       19              1      6        16.666667\n",
       "1       20              1      6        16.666667\n",
       "2       21              0      6         0.000000\n",
       "3       22              1     13         7.692308\n",
       "4       23              8     19        42.105263"
      ]
     },
     "execution_count": 16,
     "metadata": {},
     "output_type": "execute_result"
    }
   ],
   "source": [
    "df_age_clicked.head()"
   ]
  },
  {
   "cell_type": "code",
   "execution_count": 17,
   "id": "47c5b983",
   "metadata": {
    "execution": {
     "iopub.execute_input": "2021-11-22T22:08:48.119238Z",
     "iopub.status.busy": "2021-11-22T22:08:48.118460Z",
     "iopub.status.idle": "2021-11-22T22:08:48.394975Z",
     "shell.execute_reply": "2021-11-22T22:08:48.396344Z",
     "shell.execute_reply.started": "2021-11-22T22:03:14.119607Z"
    },
    "papermill": {
     "duration": 0.331499,
     "end_time": "2021-11-22T22:08:48.396555",
     "exception": false,
     "start_time": "2021-11-22T22:08:48.065056",
     "status": "completed"
    },
    "tags": []
   },
   "outputs": [
    {
     "data": {
      "image/png": "[encoded data removed]",
      "text/plain": [
       "<Figure size 432x288 with 1 Axes>"
      ]
     },
     "metadata": {
      "needs_background": "light"
     },
     "output_type": "display_data"
    }
   ],
   "source": [
    "percent = df_age_clicked[\"Percent Clicked\"]\n",
    "\n",
    "age = df_age_clicked[\"Age\"]\n",
    "\n",
    "plt.bar(age, percent)\n",
    "\n",
    "plt.show()"
   ]
  },
  {
   "cell_type": "markdown",
   "id": "2b446156",
   "metadata": {
    "papermill": {
     "duration": 0.030813,
     "end_time": "2021-11-22T22:08:48.458266",
     "exception": false,
     "start_time": "2021-11-22T22:08:48.427453",
     "status": "completed"
    },
    "tags": []
   },
   "source": [
    "While the data for the 50-60 age group is limited, there does appear to be a correlation between age and clicking on the ad. "
   ]
  },
  {
   "cell_type": "code",
   "execution_count": 18,
   "id": "78ca825d",
   "metadata": {
    "execution": {
     "iopub.execute_input": "2021-11-22T22:08:48.524784Z",
     "iopub.status.busy": "2021-11-22T22:08:48.524081Z",
     "iopub.status.idle": "2021-11-22T22:08:48.529138Z",
     "shell.execute_reply": "2021-11-22T22:08:48.529690Z",
     "shell.execute_reply.started": "2021-11-22T22:03:14.396505Z"
    },
    "papermill": {
     "duration": 0.040618,
     "end_time": "2021-11-22T22:08:48.529861",
     "exception": false,
     "start_time": "2021-11-22T22:08:48.489243",
     "status": "completed"
    },
    "tags": []
   },
   "outputs": [],
   "source": [
    "clicked = df_ads.loc[df_ads[\"Clicked on Ad\"] == 1]\n",
    "\n",
    "no_clicked = df_ads.loc[df_ads[\"Clicked on Ad\"] == 0]"
   ]
  },
  {
   "cell_type": "code",
   "execution_count": 19,
   "id": "a2d82b21",
   "metadata": {
    "execution": {
     "iopub.execute_input": "2021-11-22T22:08:48.595492Z",
     "iopub.status.busy": "2021-11-22T22:08:48.594730Z",
     "iopub.status.idle": "2021-11-22T22:08:48.898082Z",
     "shell.execute_reply": "2021-11-22T22:08:48.897498Z",
     "shell.execute_reply.started": "2021-11-22T22:03:14.404137Z"
    },
    "papermill": {
     "duration": 0.337858,
     "end_time": "2021-11-22T22:08:48.898230",
     "exception": false,
     "start_time": "2021-11-22T22:08:48.560372",
     "status": "completed"
    },
    "scrolled": true,
    "tags": []
   },
   "outputs": [
    {
     "data": {
      "image/png": "[encoded data removed]",
      "text/plain": [
       "<Figure size 432x288 with 1 Axes>"
      ]
     },
     "metadata": {
      "needs_background": "light"
     },
     "output_type": "display_data"
    }
   ],
   "source": [
    "use_clicked = clicked[\"Daily Internet Usage\"]\n",
    "\n",
    "use_no_clicked = no_clicked[\"Daily Internet Usage\"]\n",
    "\n",
    "plot_data = [use_clicked, use_no_clicked]\n",
    "\n",
    "fig, ax = plt.subplots()\n",
    "\n",
    "ax.boxplot(plot_data)\n",
    "\n",
    "ax.set_xticklabels(['Clicked', 'Did Not Click'])\n",
    "\n",
    "plt.show()"
   ]
  },
  {
   "cell_type": "markdown",
   "id": "1111481b",
   "metadata": {
    "papermill": {
     "duration": 0.030963,
     "end_time": "2021-11-22T22:08:48.961802",
     "exception": false,
     "start_time": "2021-11-22T22:08:48.930839",
     "status": "completed"
    },
    "tags": []
   },
   "source": [
    "Given the groupings of the amount of time spent on the internet, the more time one spends on the internet, the less "
   ]
  },
  {
   "cell_type": "code",
   "execution_count": 20,
   "id": "d6ea15be",
   "metadata": {
    "execution": {
     "iopub.execute_input": "2021-11-22T22:08:49.030154Z",
     "iopub.status.busy": "2021-11-22T22:08:49.029111Z",
     "iopub.status.idle": "2021-11-22T22:08:49.034293Z",
     "shell.execute_reply": "2021-11-22T22:08:49.033642Z",
     "shell.execute_reply.started": "2021-11-22T22:03:14.691781Z"
    },
    "papermill": {
     "duration": 0.04012,
     "end_time": "2021-11-22T22:08:49.034439",
     "exception": false,
     "start_time": "2021-11-22T22:08:48.994319",
     "status": "completed"
    },
    "scrolled": true,
    "tags": []
   },
   "outputs": [],
   "source": [
    "clicked_total = clicked[\"Male\"].count()\n",
    "\n",
    "no_clicked_total = no_clicked[\"Male\"].count()"
   ]
  },
  {
   "cell_type": "code",
   "execution_count": 21,
   "id": "b23f957a",
   "metadata": {
    "execution": {
     "iopub.execute_input": "2021-11-22T22:08:49.106067Z",
     "iopub.status.busy": "2021-11-22T22:08:49.105103Z",
     "iopub.status.idle": "2021-11-22T22:08:49.107766Z",
     "shell.execute_reply": "2021-11-22T22:08:49.107258Z",
     "shell.execute_reply.started": "2021-11-22T22:03:14.69924Z"
    },
    "papermill": {
     "duration": 0.041166,
     "end_time": "2021-11-22T22:08:49.107929",
     "exception": false,
     "start_time": "2021-11-22T22:08:49.066763",
     "status": "completed"
    },
    "tags": []
   },
   "outputs": [],
   "source": [
    "male_clicked = clicked.loc[:, \"Male\"].sum()\n",
    "\n",
    "female_clicked = clicked_total - male_clicked\n",
    "\n",
    "male_no_clicked = no_clicked.loc[:, \"Male\"].sum()\n",
    "\n",
    "female_no_clicked = no_clicked_total - male_no_clicked\n",
    "\n",
    "male_clicked_perc = male_clicked / clicked_total * 100\n",
    "\n",
    "female_clicked_perc = female_clicked / clicked_total * 100\n",
    "\n",
    "male_no_clicked_perc = male_no_clicked / no_clicked_total * 100\n",
    "\n",
    "female_no_clicked_perc = female_no_clicked / no_clicked_total * 100"
   ]
  },
  {
   "cell_type": "code",
   "execution_count": 22,
   "id": "8f6d3a1a",
   "metadata": {
    "execution": {
     "iopub.execute_input": "2021-11-22T22:08:49.177035Z",
     "iopub.status.busy": "2021-11-22T22:08:49.176177Z",
     "iopub.status.idle": "2021-11-22T22:08:49.180587Z",
     "shell.execute_reply": "2021-11-22T22:08:49.179778Z",
     "shell.execute_reply.started": "2021-11-22T22:03:14.710328Z"
    },
    "papermill": {
     "duration": 0.041283,
     "end_time": "2021-11-22T22:08:49.180780",
     "exception": false,
     "start_time": "2021-11-22T22:08:49.139497",
     "status": "completed"
    },
    "tags": []
   },
   "outputs": [
    {
     "name": "stdout",
     "output_type": "stream",
     "text": [
      "Female Clicked Percentage: 53.800000000000004\n",
      "Male Clicked Percentage: 46.2\n",
      "Female No Click Percentage: 50.0\n",
      "Male No Click Percentage: 50.0\n"
     ]
    }
   ],
   "source": [
    "print(\"Female Clicked Percentage: \" + str(female_clicked_perc))\n",
    "\n",
    "print(\"Male Clicked Percentage: \" + str(male_clicked_perc))\n",
    "\n",
    "print(\"Female No Click Percentage: \" + str(female_no_clicked_perc))\n",
    "\n",
    "print(\"Male No Click Percentage: \" + str(male_no_clicked_perc))"
   ]
  },
  {
   "cell_type": "markdown",
   "id": "d8249c1a",
   "metadata": {
    "papermill": {
     "duration": 0.031317,
     "end_time": "2021-11-22T22:08:49.244715",
     "exception": false,
     "start_time": "2021-11-22T22:08:49.213398",
     "status": "completed"
    },
    "tags": []
   },
   "source": [
    "It does not appear that there is a significant difference between genders in if they clicked on the ad or not"
   ]
  },
  {
   "cell_type": "code",
   "execution_count": 23,
   "id": "1a943a5f",
   "metadata": {
    "execution": {
     "iopub.execute_input": "2021-11-22T22:08:49.312147Z",
     "iopub.status.busy": "2021-11-22T22:08:49.311345Z",
     "iopub.status.idle": "2021-11-22T22:08:49.497522Z",
     "shell.execute_reply": "2021-11-22T22:08:49.498026Z",
     "shell.execute_reply.started": "2021-11-22T22:03:14.727685Z"
    },
    "papermill": {
     "duration": 0.221849,
     "end_time": "2021-11-22T22:08:49.498206",
     "exception": false,
     "start_time": "2021-11-22T22:08:49.276357",
     "status": "completed"
    },
    "tags": []
   },
   "outputs": [
    {
     "data": {
      "image/png": "[encoded data removed]",
      "text/plain": [
       "<Figure size 432x288 with 1 Axes>"
      ]
     },
     "metadata": {
      "needs_background": "light"
     },
     "output_type": "display_data"
    }
   ],
   "source": [
    "income_clicked = clicked[\"Area Income\"]\n",
    "\n",
    "income_no_clicked = no_clicked[\"Area Income\"]\n",
    "\n",
    "plot_data = [income_clicked, income_no_clicked]\n",
    "\n",
    "fig, ax = plt.subplots()\n",
    "\n",
    "ax.boxplot(plot_data)\n",
    "\n",
    "ax.set_xticklabels(['Clicked', 'Did Not Click'])\n",
    "\n",
    "plt.show()"
   ]
  },
  {
   "cell_type": "markdown",
   "id": "9b0cabaa",
   "metadata": {
    "papermill": {
     "duration": 0.03199,
     "end_time": "2021-11-22T22:08:49.562480",
     "exception": false,
     "start_time": "2021-11-22T22:08:49.530490",
     "status": "completed"
    },
    "tags": []
   },
   "source": [
    "Based upon the box and whisker plots above, it appears that on average the area income of those that did not click the ad is higher than those that did click the ad."
   ]
  },
  {
   "cell_type": "code",
   "execution_count": 24,
   "id": "e95cda11",
   "metadata": {
    "execution": {
     "iopub.execute_input": "2021-11-22T22:08:49.630748Z",
     "iopub.status.busy": "2021-11-22T22:08:49.630072Z",
     "iopub.status.idle": "2021-11-22T22:08:49.813230Z",
     "shell.execute_reply": "2021-11-22T22:08:49.813788Z",
     "shell.execute_reply.started": "2021-11-22T22:03:14.905544Z"
    },
    "papermill": {
     "duration": 0.21889,
     "end_time": "2021-11-22T22:08:49.813980",
     "exception": false,
     "start_time": "2021-11-22T22:08:49.595090",
     "status": "completed"
    },
    "tags": []
   },
   "outputs": [
    {
     "data": {
      "image/png": "[encoded data removed]",
      "text/plain": [
       "<Figure size 432x288 with 1 Axes>"
      ]
     },
     "metadata": {
      "needs_background": "light"
     },
     "output_type": "display_data"
    }
   ],
   "source": [
    "time_clicked = clicked[\"Daily Time Spent on Site\"]\n",
    "\n",
    "time_no_clicked = no_clicked[\"Daily Time Spent on Site\"]\n",
    "\n",
    "plot_data = [time_clicked, time_no_clicked]\n",
    "\n",
    "fig, ax = plt.subplots()\n",
    "\n",
    "ax.boxplot(plot_data)\n",
    "\n",
    "ax.set_xticklabels(['Clicked', 'Did Not Click'])\n",
    "\n",
    "plt.show()"
   ]
  },
  {
   "cell_type": "markdown",
   "id": "59529516",
   "metadata": {
    "papermill": {
     "duration": 0.033384,
     "end_time": "2021-11-22T22:08:49.881154",
     "exception": false,
     "start_time": "2021-11-22T22:08:49.847770",
     "status": "completed"
    },
    "tags": []
   },
   "source": [
    "Daily time spent on site also seems to be an indicator of if someone will click on an ad or not. The average time spent on the site was less for individuals that clicked on the ad. This will be a good feature to use in the prediction model. "
   ]
  },
  {
   "cell_type": "code",
   "execution_count": 25,
   "id": "9969136a",
   "metadata": {
    "execution": {
     "iopub.execute_input": "2021-11-22T22:08:49.951861Z",
     "iopub.status.busy": "2021-11-22T22:08:49.951185Z",
     "iopub.status.idle": "2021-11-22T22:08:49.965435Z",
     "shell.execute_reply": "2021-11-22T22:08:49.966030Z",
     "shell.execute_reply.started": "2021-11-22T22:03:15.080477Z"
    },
    "papermill": {
     "duration": 0.051622,
     "end_time": "2021-11-22T22:08:49.966216",
     "exception": false,
     "start_time": "2021-11-22T22:08:49.914594",
     "status": "completed"
    },
    "scrolled": true,
    "tags": []
   },
   "outputs": [
    {
     "data": {
      "text/html": [
       "<div>\n",
       "<style scoped>\n",
       "    .dataframe tbody tr th:only-of-type {\n",
       "        vertical-align: middle;\n",
       "    }\n",
       "\n",
       "    .dataframe tbody tr th {\n",
       "        vertical-align: top;\n",
       "    }\n",
       "\n",
       "    .dataframe thead th {\n",
       "        text-align: right;\n",
       "    }\n",
       "</style>\n",
       "<table border=\"1\" class=\"dataframe\">\n",
       "  <thead>\n",
       "    <tr style=\"text-align: right;\">\n",
       "      <th></th>\n",
       "      <th>Count</th>\n",
       "    </tr>\n",
       "  </thead>\n",
       "  <tbody>\n",
       "    <tr>\n",
       "      <th>count</th>\n",
       "      <td>215.000000</td>\n",
       "    </tr>\n",
       "    <tr>\n",
       "      <th>mean</th>\n",
       "      <td>2.325581</td>\n",
       "    </tr>\n",
       "    <tr>\n",
       "      <th>std</th>\n",
       "      <td>1.313498</td>\n",
       "    </tr>\n",
       "    <tr>\n",
       "      <th>min</th>\n",
       "      <td>1.000000</td>\n",
       "    </tr>\n",
       "    <tr>\n",
       "      <th>25%</th>\n",
       "      <td>1.000000</td>\n",
       "    </tr>\n",
       "    <tr>\n",
       "      <th>50%</th>\n",
       "      <td>2.000000</td>\n",
       "    </tr>\n",
       "    <tr>\n",
       "      <th>75%</th>\n",
       "      <td>3.000000</td>\n",
       "    </tr>\n",
       "    <tr>\n",
       "      <th>max</th>\n",
       "      <td>7.000000</td>\n",
       "    </tr>\n",
       "  </tbody>\n",
       "</table>\n",
       "</div>"
      ],
      "text/plain": [
       "            Count\n",
       "count  215.000000\n",
       "mean     2.325581\n",
       "std      1.313498\n",
       "min      1.000000\n",
       "25%      1.000000\n",
       "50%      2.000000\n",
       "75%      3.000000\n",
       "max      7.000000"
      ]
     },
     "execution_count": 25,
     "metadata": {},
     "output_type": "execute_result"
    }
   ],
   "source": [
    "click_country = clicked[\"Country\"].value_counts().rename_axis('Country').reset_index(name='Count')\n",
    "\n",
    "click_country.describe()"
   ]
  },
  {
   "cell_type": "code",
   "execution_count": 26,
   "id": "9b73e34b",
   "metadata": {
    "execution": {
     "iopub.execute_input": "2021-11-22T22:08:50.037051Z",
     "iopub.status.busy": "2021-11-22T22:08:50.036260Z",
     "iopub.status.idle": "2021-11-22T22:08:50.050832Z",
     "shell.execute_reply": "2021-11-22T22:08:50.051460Z",
     "shell.execute_reply.started": "2021-11-22T22:03:15.098528Z"
    },
    "papermill": {
     "duration": 0.051908,
     "end_time": "2021-11-22T22:08:50.051640",
     "exception": false,
     "start_time": "2021-11-22T22:08:49.999732",
     "status": "completed"
    },
    "scrolled": true,
    "tags": []
   },
   "outputs": [
    {
     "data": {
      "text/html": [
       "<div>\n",
       "<style scoped>\n",
       "    .dataframe tbody tr th:only-of-type {\n",
       "        vertical-align: middle;\n",
       "    }\n",
       "\n",
       "    .dataframe tbody tr th {\n",
       "        vertical-align: top;\n",
       "    }\n",
       "\n",
       "    .dataframe thead th {\n",
       "        text-align: right;\n",
       "    }\n",
       "</style>\n",
       "<table border=\"1\" class=\"dataframe\">\n",
       "  <thead>\n",
       "    <tr style=\"text-align: right;\">\n",
       "      <th></th>\n",
       "      <th>Count</th>\n",
       "    </tr>\n",
       "  </thead>\n",
       "  <tbody>\n",
       "    <tr>\n",
       "      <th>count</th>\n",
       "      <td>215.000000</td>\n",
       "    </tr>\n",
       "    <tr>\n",
       "      <th>mean</th>\n",
       "      <td>2.325581</td>\n",
       "    </tr>\n",
       "    <tr>\n",
       "      <th>std</th>\n",
       "      <td>1.190322</td>\n",
       "    </tr>\n",
       "    <tr>\n",
       "      <th>min</th>\n",
       "      <td>1.000000</td>\n",
       "    </tr>\n",
       "    <tr>\n",
       "      <th>25%</th>\n",
       "      <td>1.000000</td>\n",
       "    </tr>\n",
       "    <tr>\n",
       "      <th>50%</th>\n",
       "      <td>2.000000</td>\n",
       "    </tr>\n",
       "    <tr>\n",
       "      <th>75%</th>\n",
       "      <td>3.000000</td>\n",
       "    </tr>\n",
       "    <tr>\n",
       "      <th>max</th>\n",
       "      <td>6.000000</td>\n",
       "    </tr>\n",
       "  </tbody>\n",
       "</table>\n",
       "</div>"
      ],
      "text/plain": [
       "            Count\n",
       "count  215.000000\n",
       "mean     2.325581\n",
       "std      1.190322\n",
       "min      1.000000\n",
       "25%      1.000000\n",
       "50%      2.000000\n",
       "75%      3.000000\n",
       "max      6.000000"
      ]
     },
     "execution_count": 26,
     "metadata": {},
     "output_type": "execute_result"
    }
   ],
   "source": [
    "no_click_country = no_clicked[\"Country\"].value_counts().rename_axis('Country').reset_index(name = 'Count')\n",
    "\n",
    "no_click_country.describe()"
   ]
  },
  {
   "cell_type": "markdown",
   "id": "25936026",
   "metadata": {
    "papermill": {
     "duration": 0.034021,
     "end_time": "2021-11-22T22:08:50.121205",
     "exception": false,
     "start_time": "2021-11-22T22:08:50.087184",
     "status": "completed"
    },
    "tags": []
   },
   "source": [
    "Given there are 215 countries in the dataset, there does not appear to be significant variation between countries. I'm electing not to use country as a factor in our prediction model as I suspect it could over fit the model to the training data. "
   ]
  },
  {
   "cell_type": "code",
   "execution_count": 27,
   "id": "71b44e67",
   "metadata": {
    "execution": {
     "iopub.execute_input": "2021-11-22T22:08:50.200859Z",
     "iopub.status.busy": "2021-11-22T22:08:50.200162Z",
     "iopub.status.idle": "2021-11-22T22:08:50.458774Z",
     "shell.execute_reply": "2021-11-22T22:08:50.459492Z",
     "shell.execute_reply.started": "2021-11-22T22:03:15.114557Z"
    },
    "papermill": {
     "duration": 0.30283,
     "end_time": "2021-11-22T22:08:50.459693",
     "exception": false,
     "start_time": "2021-11-22T22:08:50.156863",
     "status": "completed"
    },
    "scrolled": true,
    "tags": []
   },
   "outputs": [
    {
     "name": "stdout",
     "output_type": "stream",
     "text": [
      "0.06666666666666667\n"
     ]
    }
   ],
   "source": [
    "from sklearn.model_selection import train_test_split\n",
    "\n",
    "from sklearn.metrics import mean_squared_error as mse\n",
    "\n",
    "from sklearn.tree import DecisionTreeRegressor\n",
    "\n",
    "X = df_ads[[\"Daily Time Spent on Site\", \"Age\", \"Area Income\", \"Daily Internet Usage\"]]\n",
    "\n",
    "y = df_ads[\"Clicked on Ad\"]\n",
    "\n",
    "X_train, X_test, y_train, y_test = train_test_split(X, y, test_size = .33, random_state = 1) \n",
    "\n",
    "regressor = DecisionTreeRegressor(random_state = 0)\n",
    "\n",
    "regressor.fit(X_train, y_train)\n",
    "\n",
    "y_pred = regressor.predict(X_test)\n",
    "\n",
    "print(mse(y_test, y_pred))"
   ]
  },
  {
   "cell_type": "markdown",
   "id": "d1e94b7f",
   "metadata": {
    "papermill": {
     "duration": 0.034838,
     "end_time": "2021-11-22T22:08:50.591962",
     "exception": false,
     "start_time": "2021-11-22T22:08:50.557124",
     "status": "completed"
    },
    "tags": []
   },
   "source": [
    "The decision tree regression model could be improved through specification of optimal hyperparameters, but for the purposes of this exercise I am satisfied with a Mean Squared Error of .067."
   ]
  },
  {
   "cell_type": "code",
   "execution_count": null,
   "id": "6552dc24",
   "metadata": {
    "papermill": {
     "duration": 0.034063,
     "end_time": "2021-11-22T22:08:50.661033",
     "exception": false,
     "start_time": "2021-11-22T22:08:50.626970",
     "status": "completed"
    },
    "tags": []
   },
   "outputs": [],
   "source": []
  }
 ],
 "metadata": {
  "kernelspec": {
   "display_name": "Python 3",
   "language": "python",
   "name": "python3"
  },
  "language_info": {
   "codemirror_mode": {
    "name": "ipython",
    "version": 3
   },
   "file_extension": ".py",
   "mimetype": "text/x-python",
   "name": "python",
   "nbconvert_exporter": "python",
   "pygments_lexer": "ipython3",
   "version": "3.7.10"
  },
  "papermill": {
   "default_parameters": {},
   "duration": 15.033579,
   "end_time": "2021-11-22T22:08:51.407462",
   "environment_variables": {},
   "exception": null,
   "input_path": "__notebook__.ipynb",
   "output_path": "__notebook__.ipynb",
   "parameters": {},
   "start_time": "2021-11-22T22:08:36.373883",
   "version": "2.3.3"
  }
 },
 "nbformat": 4,
 "nbformat_minor": 5
}
